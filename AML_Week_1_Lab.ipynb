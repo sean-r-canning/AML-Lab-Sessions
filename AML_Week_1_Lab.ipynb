{
  "nbformat": 4,
  "nbformat_minor": 0,
  "metadata": {
    "colab": {
      "name": "AML - Week 1 Lab.ipynb",
      "provenance": [],
      "authorship_tag": "ABX9TyM+NNs+DxC4zEVLQCIXlKab",
      "include_colab_link": true
    },
    "kernelspec": {
      "name": "python3",
      "display_name": "Python 3"
    }
  },
  "cells": [
    {
      "cell_type": "markdown",
      "metadata": {
        "id": "view-in-github",
        "colab_type": "text"
      },
      "source": [
        "<a href=\"https://colab.research.google.com/github/sean-r-canning/AML-Lab-Sessions/blob/main/AML_Week_1_Lab.ipynb\" target=\"_parent\"><img src=\"https://colab.research.google.com/assets/colab-badge.svg\" alt=\"Open In Colab\"/></a>"
      ]
    },
    {
      "cell_type": "code",
      "metadata": {
        "id": "5FhAZM1wTPR9",
        "outputId": "96a4cf0e-2473-4c21-aa7a-72c7357ddb0d",
        "colab": {
          "base_uri": "https://localhost:8080/",
          "height": 34
        }
      },
      "source": [
        "# Load CSV Using Python Standard Library\n",
        "import csv\n",
        "import numpy\n",
        "filename = 'pima-indians-diabetes.data.csv'\n",
        "raw_data = open(filename, 'rt')\n",
        "reader = csv.reader(raw_data, delimiter=',', quoting=csv.QUOTE_NONE)\n",
        "x = list(reader)\n",
        "data = numpy.array(x).astype('float')\n",
        "print(data.shape)"
      ],
      "execution_count": null,
      "outputs": [
        {
          "output_type": "stream",
          "text": [
            "(768, 9)\n"
          ],
          "name": "stdout"
        }
      ]
    },
    {
      "cell_type": "code",
      "metadata": {
        "id": "BYgfwYdIgK5Z",
        "outputId": "d3d6961a-5893-41b6-82d2-0a8c38e2d24b",
        "colab": {
          "base_uri": "https://localhost:8080/",
          "height": 34
        }
      },
      "source": [
        "# Load CSV using NumPy\n",
        "from numpy import loadtxt\n",
        "filename = 'pima-indians-diabetes.data.csv'\n",
        "raw_data = open(filename, 'rt')\n",
        "data = loadtxt(raw_data, delimiter=\",\")\n",
        "print(data.shape)"
      ],
      "execution_count": null,
      "outputs": [
        {
          "output_type": "stream",
          "text": [
            "(768, 9)\n"
          ],
          "name": "stdout"
        }
      ]
    },
    {
      "cell_type": "code",
      "metadata": {
        "id": "xdBPgIqHgOcB"
      },
      "source": [
        "# Load CSV from URL using NumPy\n",
        "from numpy import loadtxt\n",
        "from urllib.request import urlopen\n",
        "url = 'https://goo.gl/XXXXX'\n",
        "raw_data = urlopen(url)\n",
        "dataset = loadtxt(raw_data, delimiter=\",\")\n",
        "print(dataset.shape)"
      ],
      "execution_count": null,
      "outputs": []
    },
    {
      "cell_type": "code",
      "metadata": {
        "id": "jguq9tDMghBh",
        "outputId": "5c0c8450-099e-45a5-db29-0e5f4a2113f9",
        "colab": {
          "base_uri": "https://localhost:8080/",
          "height": 34
        }
      },
      "source": [
        "# Load CSV using Pandas\n",
        "from pandas import read_csv\n",
        "filename = 'pima-indians-diabetes.data.csv'\n",
        "names = ['preg', 'plas', 'pres', 'skin', 'test', 'mass', 'pedi', 'age', 'class']\n",
        "data = read_csv(filename, names=names)\n",
        "print(data.shape)"
      ],
      "execution_count": null,
      "outputs": [
        {
          "output_type": "stream",
          "text": [
            "(768, 9)\n"
          ],
          "name": "stdout"
        }
      ]
    },
    {
      "cell_type": "code",
      "metadata": {
        "id": "aSnB9xc8jVCN"
      },
      "source": [
        "# Load CSV using Pandas from URL\n",
        "from pandas import read_csv\n",
        "url = 'https://goo.gl/XXXXXXX'\n",
        "names = ['preg', 'plas', 'pres', 'skin', 'test', 'mass', 'pedi', 'age', 'class']\n",
        "data = read_csv(url, names=names)\n",
        "print(data.shape)"
      ],
      "execution_count": null,
      "outputs": []
    },
    {
      "cell_type": "code",
      "metadata": {
        "id": "TwE1_kYrjWEw",
        "outputId": "bb5c750c-ea3e-41b4-ef42-e95bb8c02a51",
        "colab": {
          "base_uri": "https://localhost:8080/",
          "height": 374
        }
      },
      "source": [
        "# View first 20 rows\n",
        "from pandas import read_csv\n",
        "filename = \"pima-indians-diabetes.data.csv\"\n",
        "names = ['preg', 'plas', 'pres', 'skin', 'test', 'mass', 'pedi', 'age', 'class']\n",
        "data = read_csv(filename, names=names)\n",
        "peek = data.head(20)\n",
        "print(peek)"
      ],
      "execution_count": null,
      "outputs": [
        {
          "output_type": "stream",
          "text": [
            "    preg  plas  pres  skin  test  mass   pedi  age  class\n",
            "0      6   148    72    35     0  33.6  0.627   50      1\n",
            "1      1    85    66    29     0  26.6  0.351   31      0\n",
            "2      8   183    64     0     0  23.3  0.672   32      1\n",
            "3      1    89    66    23    94  28.1  0.167   21      0\n",
            "4      0   137    40    35   168  43.1  2.288   33      1\n",
            "5      5   116    74     0     0  25.6  0.201   30      0\n",
            "6      3    78    50    32    88  31.0  0.248   26      1\n",
            "7     10   115     0     0     0  35.3  0.134   29      0\n",
            "8      2   197    70    45   543  30.5  0.158   53      1\n",
            "9      8   125    96     0     0   0.0  0.232   54      1\n",
            "10     4   110    92     0     0  37.6  0.191   30      0\n",
            "11    10   168    74     0     0  38.0  0.537   34      1\n",
            "12    10   139    80     0     0  27.1  1.441   57      0\n",
            "13     1   189    60    23   846  30.1  0.398   59      1\n",
            "14     5   166    72    19   175  25.8  0.587   51      1\n",
            "15     7   100     0     0     0  30.0  0.484   32      1\n",
            "16     0   118    84    47   230  45.8  0.551   31      1\n",
            "17     7   107    74     0     0  29.6  0.254   31      1\n",
            "18     1   103    30    38    83  43.3  0.183   33      0\n",
            "19     1   115    70    30    96  34.6  0.529   32      1\n"
          ],
          "name": "stdout"
        }
      ]
    },
    {
      "cell_type": "code",
      "metadata": {
        "id": "I3znNAU9j373",
        "outputId": "53080900-1d57-4d79-c757-69aa05340762",
        "colab": {
          "base_uri": "https://localhost:8080/",
          "height": 34
        }
      },
      "source": [
        "# Dimensions of your data\n",
        "from pandas import read_csv\n",
        "filename = \"pima-indians-diabetes.data.csv\"\n",
        "names = ['preg', 'plas', 'pres', 'skin', 'test', 'mass', 'pedi', 'age', 'class']\n",
        "data = read_csv(filename, names=names)\n",
        "shape = data.shape\n",
        "print(shape)"
      ],
      "execution_count": null,
      "outputs": [
        {
          "output_type": "stream",
          "text": [
            "(768, 9)\n"
          ],
          "name": "stdout"
        }
      ]
    },
    {
      "cell_type": "code",
      "metadata": {
        "id": "3NYhSzYIkVOC",
        "outputId": "5cb7cf78-f378-49cb-afcb-0aec50aef4af",
        "colab": {
          "base_uri": "https://localhost:8080/",
          "height": 187
        }
      },
      "source": [
        "# Data Types for Each Attribute\n",
        "from pandas import read_csv\n",
        "filename = \"pima-indians-diabetes.data.csv\"\n",
        "names = ['preg', 'plas', 'pres', 'skin', 'test', 'mass', 'pedi', 'age', 'class']\n",
        "data = read_csv(filename, names=names)\n",
        "types = data.dtypes\n",
        "print(types)"
      ],
      "execution_count": null,
      "outputs": [
        {
          "output_type": "stream",
          "text": [
            "preg       int64\n",
            "plas       int64\n",
            "pres       int64\n",
            "skin       int64\n",
            "test       int64\n",
            "mass     float64\n",
            "pedi     float64\n",
            "age        int64\n",
            "class      int64\n",
            "dtype: object\n"
          ],
          "name": "stdout"
        }
      ]
    },
    {
      "cell_type": "markdown",
      "metadata": {
        "id": "C2lqAJPIkY6a"
      },
      "source": [
        "Descriptive Stats"
      ]
    },
    {
      "cell_type": "code",
      "metadata": {
        "id": "5Ysa3PR9kaos",
        "outputId": "06297ea8-2888-4ccb-b9b2-01f843fe3c9e",
        "colab": {
          "base_uri": "https://localhost:8080/",
          "height": 204
        }
      },
      "source": [
        "# Statistical Summary\n",
        "from pandas import read_csv\n",
        "from pandas import set_option\n",
        "filename = \"pima-indians-diabetes.data.csv\"\n",
        "names = ['preg', 'plas', 'pres', 'skin', 'test', 'mass', 'pedi', 'age', 'class']\n",
        "data = read_csv(filename, names=names)\n",
        "set_option('display.width', 100)\n",
        "set_option('precision', 3)\n",
        "description = data.describe()\n",
        "print(description)"
      ],
      "execution_count": null,
      "outputs": [
        {
          "output_type": "stream",
          "text": [
            "          preg     plas     pres     skin  ...     mass     pedi      age    class\n",
            "count  768.000  768.000  768.000  768.000  ...  768.000  768.000  768.000  768.000\n",
            "mean     3.845  120.895   69.105   20.536  ...   31.993    0.472   33.241    0.349\n",
            "std      3.370   31.973   19.356   15.952  ...    7.884    0.331   11.760    0.477\n",
            "min      0.000    0.000    0.000    0.000  ...    0.000    0.078   21.000    0.000\n",
            "25%      1.000   99.000   62.000    0.000  ...   27.300    0.244   24.000    0.000\n",
            "50%      3.000  117.000   72.000   23.000  ...   32.000    0.372   29.000    0.000\n",
            "75%      6.000  140.250   80.000   32.000  ...   36.600    0.626   41.000    1.000\n",
            "max     17.000  199.000  122.000   99.000  ...   67.100    2.420   81.000    1.000\n",
            "\n",
            "[8 rows x 9 columns]\n"
          ],
          "name": "stdout"
        }
      ]
    },
    {
      "cell_type": "markdown",
      "metadata": {
        "id": "kbkhXYd-klUy"
      },
      "source": [
        "#Class Distribution\n",
        "for Classification Statistics"
      ]
    },
    {
      "cell_type": "code",
      "metadata": {
        "id": "qu4V3-fTkp_D",
        "outputId": "ab13e0c6-d967-4222-c701-6b7969134462",
        "colab": {
          "base_uri": "https://localhost:8080/",
          "height": 85
        }
      },
      "source": [
        "# Class Distribution\n",
        "from pandas import read_csv\n",
        "filename = \"pima-indians-diabetes.data.csv\"\n",
        "names = ['preg', 'plas', 'pres', 'skin', 'test', 'mass', 'pedi', 'age', 'class']\n",
        "data = read_csv(filename, names=names)\n",
        "class_counts = data.groupby('class').size()\n",
        "print(class_counts)"
      ],
      "execution_count": null,
      "outputs": [
        {
          "output_type": "stream",
          "text": [
            "class\n",
            "0    500\n",
            "1    268\n",
            "dtype: int64\n"
          ],
          "name": "stdout"
        }
      ]
    },
    {
      "cell_type": "markdown",
      "metadata": {
        "id": "j3i2pUxzkxYB"
      },
      "source": [
        "Correlation between Statistics"
      ]
    },
    {
      "cell_type": "code",
      "metadata": {
        "id": "1YIgty3fkvR5",
        "outputId": "9b739835-565c-41f4-a569-6cea9ca7c872",
        "colab": {
          "base_uri": "https://localhost:8080/",
          "height": 187
        }
      },
      "source": [
        "# Pairwise Pearson correlations\n",
        "from pandas import read_csv\n",
        "from pandas import set_option\n",
        "filename = \"pima-indians-diabetes.data.csv\"\n",
        "names = ['preg', 'plas', 'pres', 'skin', 'test', 'mass', 'pedi', 'age', 'class']\n",
        "9\n",
        "data = read_csv(filename, names=names)\n",
        "set_option('display.width', 100)\n",
        "set_option('precision', 3)\n",
        "correlations = data.corr(method='pearson')\n",
        "print(correlations)"
      ],
      "execution_count": null,
      "outputs": [
        {
          "output_type": "stream",
          "text": [
            "        preg   plas   pres   skin   test   mass   pedi    age  class\n",
            "preg   1.000  0.129  0.141 -0.082 -0.074  0.018 -0.034  0.544  0.222\n",
            "plas   0.129  1.000  0.153  0.057  0.331  0.221  0.137  0.264  0.467\n",
            "pres   0.141  0.153  1.000  0.207  0.089  0.282  0.041  0.240  0.065\n",
            "skin  -0.082  0.057  0.207  1.000  0.437  0.393  0.184 -0.114  0.075\n",
            "test  -0.074  0.331  0.089  0.437  1.000  0.198  0.185 -0.042  0.131\n",
            "mass   0.018  0.221  0.282  0.393  0.198  1.000  0.141  0.036  0.293\n",
            "pedi  -0.034  0.137  0.041  0.184  0.185  0.141  1.000  0.034  0.174\n",
            "age    0.544  0.264  0.240 -0.114 -0.042  0.036  0.034  1.000  0.238\n",
            "class  0.222  0.467  0.065  0.075  0.131  0.293  0.174  0.238  1.000\n"
          ],
          "name": "stdout"
        }
      ]
    },
    {
      "cell_type": "code",
      "metadata": {
        "id": "V0-6O-Lsk3bw",
        "outputId": "f93b5e21-29df-493e-ee9c-afac75db3f00",
        "colab": {
          "base_uri": "https://localhost:8080/",
          "height": 187
        }
      },
      "source": [
        "# Skew for each attribute\n",
        "from pandas import read_csv\n",
        "filename = \"pima-indians-diabetes.data.csv\"\n",
        "names = ['preg', 'plas', 'pres', 'skin', 'test', 'mass', 'pedi', 'age', 'class']\n",
        "data = read_csv(filename, names=names)\n",
        "skew = data.skew()\n",
        "print(skew)"
      ],
      "execution_count": null,
      "outputs": [
        {
          "output_type": "stream",
          "text": [
            "preg     0.902\n",
            "plas     0.174\n",
            "pres    -1.844\n",
            "skin     0.109\n",
            "test     2.272\n",
            "mass    -0.429\n",
            "pedi     1.920\n",
            "age      1.130\n",
            "class    0.635\n",
            "dtype: float64\n"
          ],
          "name": "stdout"
        }
      ]
    }
  ]
}